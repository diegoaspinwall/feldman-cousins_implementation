{
 "cells": [
  {
   "cell_type": "code",
   "execution_count": 2,
   "id": "ec94d427",
   "metadata": {},
   "outputs": [],
   "source": [
    "import numpy as np\n",
    "import matplotlib.pyplot as plt"
   ]
  },
  {
   "cell_type": "code",
   "execution_count": 22,
   "id": "2ac20dd8",
   "metadata": {},
   "outputs": [],
   "source": [
    "def poisson_likelihood(s, b, N):\n",
    "    \"\"\" Compute the Poisson likelihood for given signal (s) and background (b). \"\"\"\n",
    "    return (s + b)**N * np.exp(-(s + b)) / np.math.factorial(N)"
   ]
  },
  {
   "cell_type": "code",
   "execution_count": 23,
   "id": "da4ab1ac",
   "metadata": {},
   "outputs": [
    {
     "name": "stdout",
     "output_type": "stream",
     "text": [
      "Feldman-Cousins 68.27% Confidence Interval for Signal: [0.00, 0.12]\n"
     ]
    }
   ],
   "source": [
    "def feldman_cousins_poisson(N, b, confidence_level=0.95, resolution=0.01):\n",
    "    \"\"\" \n",
    "    Compute Feldman-Cousins confidence interval for Poisson-distributed data with background.\n",
    "\n",
    "    Arguments:\n",
    "    - N: number of observed events\n",
    "    - b: background count\n",
    "    - confidence_level: desired confidence level (default is 0.95)\n",
    "    - resolution: desired resolution for the mu scan\n",
    "    \n",
    "    Returns:\n",
    "    - lower_limit, upper_limit: bounds of the confidence interval\n",
    "    \"\"\"\n",
    "    # Initial values for limits\n",
    "    lower_limit, upper_limit = -1, -1\n",
    "    \n",
    "    # Scan through mu values, starting from 0 upwards\n",
    "    mu = 0\n",
    "    while lower_limit == -1 or upper_limit == -1:\n",
    "        # Preallocate arrays for likelihoods and Rs\n",
    "        likelihoods = np.zeros(5 * N + 5)\n",
    "        Rs = np.zeros(5 * N + 5)\n",
    "        \n",
    "        # Compute likelihood and R values for each n\n",
    "        for n in range(5 * N + 5):\n",
    "            mu_best = max(0, n - b)  # Best estimate of signal for this n\n",
    "            likelihoods[n] = poisson_likelihood(mu, b, n)\n",
    "            Rs[n] = likelihoods[n] / poisson_likelihood(mu_best, b, n)\n",
    "\n",
    "        # Sort by R values in descending order\n",
    "        sorted_indices = np.argsort(Rs)[::-1]\n",
    "\n",
    "        # Accumulate likelihoods and find the range of valid n values\n",
    "        total_likelihood = 0\n",
    "        valid_indices = []\n",
    "        for idx in sorted_indices:\n",
    "            total_likelihood += likelihoods[idx]\n",
    "            valid_indices.append(idx)\n",
    "\n",
    "            if total_likelihood >= confidence_level:\n",
    "                break\n",
    "\n",
    "        # If no valid indices found, increase mu and try again\n",
    "        if len(valid_indices) == 0:\n",
    "            mu += resolution\n",
    "            continue\n",
    "\n",
    "        # Determine the lower and upper limits\n",
    "        if lower_limit == -1 and max(valid_indices) >= N:\n",
    "            lower_limit = mu\n",
    "\n",
    "        if upper_limit == -1 and min(valid_indices) > N:\n",
    "            upper_limit = mu\n",
    "\n",
    "        mu += resolution  # Increment mu for the next scan\n",
    "    \n",
    "    return lower_limit, upper_limit\n",
    "\n",
    "# Example usage:\n",
    "N = 0\n",
    "b = 3\n",
    "confidence_level = 0.6827  # For 1 sigma interval\n",
    "\n",
    "# Get the Feldman-Cousins confidence interval for signal (mu)\n",
    "lower_limit, upper_limit = feldman_cousins_poisson(N, b, confidence_level)\n",
    "\n",
    "print(f\"Feldman-Cousins {100*confidence_level}% Confidence Interval for Signal: [{lower_limit:.2f}, {upper_limit:.2f}]\")"
   ]
  },
  {
   "cell_type": "code",
   "execution_count": 24,
   "id": "9f51e2de",
   "metadata": {},
   "outputs": [
    {
     "name": "stderr",
     "output_type": "stream",
     "text": [
      "100%|████████████████████████████████████████████████████████████████████████████████| 8/8 [00:01<00:00,  5.41it/s]\n"
     ]
    }
   ],
   "source": [
    "# Make a table with basic confidence interval values\n",
    "\n",
    "from tabulate import tabulate\n",
    "from tqdm import tqdm\n",
    "\n",
    "bs = np.arange(0, 3, 0.5)\n",
    "ns = np.arange(0, 8, 1)\n",
    "CONFIDENCE_LEVEL = 0.6827\n",
    "\n",
    "# Initialize the table with headers\n",
    "headers = [] + [f\"b={b}\" for b in bs]  # Create headers dynamically\n",
    "data = []\n",
    "\n",
    "# Add rows to the data\n",
    "for n in tqdm(ns):\n",
    "    row = [f\"n={n}\"]\n",
    "    for b in bs:\n",
    "        lower_limit, upper_limit = feldman_cousins_poisson(n, b, CONFIDENCE_LEVEL)\n",
    "        row.append(f\"[{lower_limit:.2f},{upper_limit:.2f}]\")  # You can replace this with your desired logic\n",
    "    data.append(row)"
   ]
  },
  {
   "cell_type": "code",
   "execution_count": 25,
   "id": "016d8ca6",
   "metadata": {},
   "outputs": [
    {
     "name": "stdout",
     "output_type": "stream",
     "text": [
      "+-----+--------------+-------------+-------------+-------------+-------------+-------------+\n",
      "|     | b=0.0        | b=0.5       | b=1.0       | b=1.5       | b=2.0       | b=2.5       |\n",
      "+=====+==============+=============+=============+=============+=============+=============+\n",
      "| n=0 | [0.00,1.30]  | [0.00,0.81] | [0.00,0.55] | [0.00,0.32] | [0.00,0.15] | [0.00,0.25] |\n",
      "+-----+--------------+-------------+-------------+-------------+-------------+-------------+\n",
      "| n=1 | [0.37,2.76]  | [0.00,2.26] | [0.00,1.76] | [0.00,1.32] | [0.00,0.97] | [0.00,0.69] |\n",
      "+-----+--------------+-------------+-------------+-------------+-------------+-------------+\n",
      "| n=2 | [0.74,4.26]  | [0.45,3.76] | [0.15,3.26] | [0.00,2.76] | [0.00,2.26] | [0.00,1.80] |\n",
      "+-----+--------------+-------------+-------------+-------------+-------------+-------------+\n",
      "| n=3 | [1.11,5.31]  | [0.81,4.81] | [0.55,4.31] | [0.32,3.81] | [0.00,3.31] | [0.00,2.81] |\n",
      "+-----+--------------+-------------+-------------+-------------+-------------+-------------+\n",
      "| n=4 | [2.34,6.78]  | [1.84,6.28] | [1.34,5.78] | [0.92,5.28] | [0.45,4.78] | [0.25,4.28] |\n",
      "+-----+--------------+-------------+-------------+-------------+-------------+-------------+\n",
      "| n=5 | [2.76,7.81]  | [2.26,7.31] | [1.76,6.81] | [1.32,6.31] | [0.97,5.81] | [0.69,5.31] |\n",
      "+-----+--------------+-------------+-------------+-------------+-------------+-------------+\n",
      "| n=6 | [3.83,9.28]  | [3.33,8.78] | [2.83,8.28] | [2.33,7.78] | [1.83,7.28] | [1.38,6.78] |\n",
      "+-----+--------------+-------------+-------------+-------------+-------------+-------------+\n",
      "| n=7 | [4.26,10.31] | [3.76,9.81] | [3.26,9.31] | [2.76,8.81] | [2.26,8.31] | [1.80,7.81] |\n",
      "+-----+--------------+-------------+-------------+-------------+-------------+-------------+\n"
     ]
    }
   ],
   "source": [
    "# Print the table\n",
    "print(tabulate(data, headers=headers, tablefmt=\"grid\"))"
   ]
  },
  {
   "cell_type": "code",
   "execution_count": 3,
   "id": "44b4d9ab",
   "metadata": {},
   "outputs": [],
   "source": [
    "def gaussian_likelihood(x, mu):\n",
    "    \"\"\" Compute the Gaussian likelihood for a given signal (mu). \"\"\"\n",
    "    return (1 / np.sqrt(2 * np.math.pi)) * np.exp((-(x - mu)**2) / 2)\n",
    "\n",
    "def gaussian_R(x, mu):\n",
    "    \"\"\" Compute the Gaussian r-value for a given signal (mu). \"\"\"\n",
    "    if x < 0:\n",
    "        return np.exp(x*mu - ((mu**2) / 2))\n",
    "    return np.exp(-((x - mu)**2) / 2)"
   ]
  },
  {
   "cell_type": "code",
   "execution_count": 5,
   "id": "052e62bd",
   "metadata": {},
   "outputs": [
    {
     "data": {
      "text/plain": [
       "0.05399096651318806"
      ]
     },
     "execution_count": 5,
     "metadata": {},
     "output_type": "execute_result"
    }
   ],
   "source": [
    "gaussian_likelihood(0, 2)"
   ]
  },
  {
   "cell_type": "code",
   "execution_count": 4,
   "id": "9bbe71b3",
   "metadata": {
    "scrolled": false
   },
   "outputs": [
    {
     "name": "stdout",
     "output_type": "stream",
     "text": [
      "Feldman-Cousins 90.0% Confidence Interval for Signal: [0, 0.82]\n"
     ]
    }
   ],
   "source": [
    "def feldman_cousins_gaussian(X, confidence_level=0.95, resolution=0.01):\n",
    "    \"\"\" Compute Feldman-Cousins confidence interval for Poisson-distributed data with background.\n",
    "    \n",
    "    Arguments:\n",
    "    - x: number of observed events\n",
    "    - confidence_level: desired confidence level (default is 0.95)\n",
    "    - resolution: desired resolution\n",
    "    \n",
    "    Returns:\n",
    "    - lower_limit, upper_limit: bounds of the confidence interval\n",
    "    \"\"\"\n",
    "    \n",
    "    lower_limit, upper_limit = -1, -1\n",
    "    \n",
    "    mu = 0\n",
    "    while lower_limit == -1 or upper_limit == -1:\n",
    "        likelihoods = np.array([])\n",
    "        Rs = np.array([])\n",
    "        Xs = np.arange(X - 10,X + 10, resolution)\n",
    "    \n",
    "        for x in Xs:\n",
    "            mu_best = max(0, x)\n",
    "            likelihoods = np.append(likelihoods, gaussian_likelihood(x, mu))\n",
    "            Rs = np.append(Rs, gaussian_likelihood(x, mu) / gaussian_likelihood(x, mu_best))\n",
    "        \n",
    "        sorted_indices = sorted(range(len(Rs)), key=lambda i: Rs[i], reverse=True)\n",
    "        \n",
    "        total_likelihood = 0\n",
    "        valid_indices = []\n",
    "        for idx in sorted_indices:\n",
    "            total_likelihood += likelihoods[idx] * resolution # shitty numerical integral approximation\n",
    "            valid_indices.append(idx)\n",
    "            \n",
    "            if total_likelihood >= confidence_level:\n",
    "                break\n",
    "        \n",
    "        # If no valid indices found, increase mu and try again\n",
    "        if len(valid_indices) == 0:\n",
    "            mu += resolution\n",
    "            continue\n",
    "        \n",
    "        if lower_limit == -1 and Xs[max(valid_indices)] >= X:\n",
    "            lower_limit = mu\n",
    "        \n",
    "        if upper_limit == -1 and Xs[min(valid_indices)] > X:\n",
    "            upper_limit = mu\n",
    "        \n",
    "        mu += resolution\n",
    "    \n",
    "    return lower_limit, upper_limit\n",
    "    \n",
    "# Example usage:\n",
    "x = -1\n",
    "confidence_level = 0.9\n",
    "\n",
    "# Get the Feldman-Cousins confidence interval for signal (mu)\n",
    "lower_limit, upper_limit = feldman_cousins_gaussian(x, confidence_level)\n",
    "\n",
    "print(f\"Feldman-Cousins {100*confidence_level}% Confidence Interval for Signal: [{round(lower_limit, 4)}, {round(upper_limit, 4)}]\")"
   ]
  },
  {
   "cell_type": "code",
   "execution_count": 5,
   "id": "5402c23b",
   "metadata": {},
   "outputs": [
    {
     "name": "stderr",
     "output_type": "stream",
     "text": [
      "100%|███████████████████████████████████████████| 60/60 [03:59<00:00,  3.99s/it]\n"
     ]
    }
   ],
   "source": [
    "# Make a graph with basic confidence interval values\n",
    "\n",
    "from tqdm import tqdm\n",
    "\n",
    "Xs = np.arange(-2, 4, 0.1)\n",
    "upper_limits = np.array([])\n",
    "lower_limits = np.array([])\n",
    "\n",
    "for x in tqdm(Xs):\n",
    "    lower_limit, upper_limit = feldman_cousins_gaussian(x, 0.9)\n",
    "    upper_limits = np.append(upper_limits, upper_limit)\n",
    "    lower_limits = np.append(lower_limits, lower_limit)"
   ]
  },
  {
   "cell_type": "code",
   "execution_count": 7,
   "id": "b7e1d116",
   "metadata": {},
   "outputs": [
    {
     "data": {
      "image/png": "[encoded data removed]",
      "text/plain": [
       "<Figure size 640x480 with 1 Axes>"
      ]
     },
     "metadata": {},
     "output_type": "display_data"
    }
   ],
   "source": [
    "# Plot both sets of y-values against x\n",
    "plt.plot(Xs, upper_limits, label='upper limit', color='b')  # Plot y1 with label and color\n",
    "plt.plot(Xs, lower_limits, label='lower limit', color='r')  # Plot y2 with label and color\n",
    "\n",
    "# Add labels and title\n",
    "plt.xlabel('Measured Mean x')\n",
    "plt.ylabel('Signal Mean')\n",
    "\n",
    "plt.xlim(-2, 4)\n",
    "plt.ylim(0, 6)\n",
    "\n",
    "plt.gca().set_aspect('equal', adjustable='box')\n",
    "\n",
    "# Add a legend to differentiate between the two plots\n",
    "plt.legend()\n",
    "\n",
    "# Show the plot\n",
    "plt.show()"
   ]
  },
  {
   "cell_type": "code",
   "execution_count": null,
   "id": "42a85fda",
   "metadata": {},
   "outputs": [],
   "source": [
    "\"\"\"\n",
    "Next steps:\n",
    "bounded poisson doesn't work with b > 4\n",
    "add more generality\n",
    "improve efficiency! the range should be chosen better\n",
    "\n",
    "\"\"\""
   ]
  }
 ],
 "metadata": {
  "kernelspec": {
   "display_name": "Python 3 (ipykernel)",
   "language": "python",
   "name": "python3"
  },
  "language_info": {
   "codemirror_mode": {
    "name": "ipython",
    "version": 3
   },
   "file_extension": ".py",
   "mimetype": "text/x-python",
   "name": "python",
   "nbconvert_exporter": "python",
   "pygments_lexer": "ipython3",
   "version": "3.11.4"
  }
 },
 "nbformat": 4,
 "nbformat_minor": 5
}
